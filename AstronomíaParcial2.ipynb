{
  "nbformat": 4,
  "nbformat_minor": 0,
  "metadata": {
    "colab": {
      "name": "AstronomíaParcial2.ipynb",
      "provenance": [],
      "collapsed_sections": [],
      "include_colab_link": true
    },
    "kernelspec": {
      "name": "python3",
      "display_name": "Python 3"
    }
  },
  "cells": [
    {
      "cell_type": "markdown",
      "metadata": {
        "id": "view-in-github",
        "colab_type": "text"
      },
      "source": [
        "<a href=\"https://colab.research.google.com/github/RudiksChess/AstronomiaParcial2/blob/master/Astronom%C3%ADaParcial2.ipynb\" target=\"_parent\"><img src=\"https://colab.research.google.com/assets/colab-badge.svg\" alt=\"Open In Colab\"/></a>"
      ]
    },
    {
      "cell_type": "markdown",
      "metadata": {
        "id": "EqXsKmt-1K8j",
        "colab_type": "text"
      },
      "source": [
        "**Universidad del Valle de Guatemala**\\\n",
        "**Introducción a la astronomía**\\\n",
        "**Parcial 2**\\\n",
        "**Dra. Kristhell López**"
      ]
    },
    {
      "cell_type": "markdown",
      "metadata": {
        "id": "4jPDjqCY2HuK",
        "colab_type": "text"
      },
      "source": [
        "Integrantes:\n",
        "1. Rudik Roberto Rompich – Carné 19857\n",
        "2. Baptiste Henri Bauer – Carné 171501"
      ]
    },
    {
      "cell_type": "markdown",
      "metadata": {
        "id": "T7HUCdDF2mDE",
        "colab_type": "text"
      },
      "source": [
        "Paquetes:"
      ]
    },
    {
      "cell_type": "code",
      "metadata": {
        "id": "h58W0rEK2sLb",
        "colab_type": "code",
        "colab": {}
      },
      "source": [
        "import numpy as np \n",
        "import scipy \n",
        "import sympy as sp\n",
        "import matplotlib.pyplot as plt"
      ],
      "execution_count": null,
      "outputs": []
    },
    {
      "cell_type": "markdown",
      "metadata": {
        "id": "wOI-sdiV29fZ",
        "colab_type": "text"
      },
      "source": [
        "\n",
        "### **Problema 1** "
      ]
    },
    {
      "cell_type": "markdown",
      "metadata": {
        "id": "0aqCgjiHCdwy",
        "colab_type": "text"
      },
      "source": [
        "$Tercera$ $ley$ $de$ $Kepler$\\\n",
        "La ecuación dada es la siguiente: \n",
        "\n",
        "$$mr\\omega^2 = G\\frac{mM}{r^2}$$\n",
        "\n",
        "$$mr\\left(\\frac{2\\pi}{T}\\right)^2 = G\\frac{mM}{r^2} \\rightarrow T^2 = \\left(\\frac{4\\pi^2}{GM} \\right)r^3 \\rightarrow  T^2 \\propto r^3$$\n",
        "$$\\frac{a^3}{T^2} = \\frac{G(M + m)}{4\\pi^2} $$\n",
        "\n",
        "Despejando para M \n",
        "\n",
        "$$ M = \\frac{a^{3}4\\pi^2}{T^{2}G} - m$$\n",
        "\n",
        "$Movimiento$ $circular$ $uniforme$\\\n",
        "La ecuación dada es la siguiente: \n",
        "\n",
        "$$ F_{gravedad} = F_{centrípeda}$$\n",
        "$$G\\frac{Mm}{r^2} = \\frac{mv^2}{r}$$\n",
        "\n",
        "Despejando para M:\n",
        "\n",
        "\n",
        "$$ M = \\frac{v^2 r}{G}$$\n",
        "\n",
        "En ambos casos: \\\n",
        "$M$ es la masa del sol.\\\n",
        "$m$ es la masa del planeta.\\\n",
        "$T$ es el período orbitanl.\\\n",
        "$a$ es el semieje mayor elíptico.\\\n",
        "$r$ es el radio del planeta. \\\n",
        "$G$ constante universal de gravitación.\\\n",
        "$v$ velocidad centrípeta del planeta alrededor del sol.\n",
        " \n",
        "\n",
        " "
      ]
    },
    {
      "cell_type": "code",
      "metadata": {
        "id": "boBGSktQ3ERZ",
        "colab_type": "code",
        "colab": {}
      },
      "source": [
        "datos = np.array([[\"Planeta\",\"Eje semimayor (AU)\",\"Período (días)\",\"Masa (Kg)\",\"R(km)\", \"V. Orbital (km/s)\"],\n",
        "                 [\"Mercurio\",\"0.38710\",\"87.9693\",\"3.301E23\",\"57.9\",\"47.4\"],\n",
        "                 [\"Venus\",\"0.72333\",\"224.7008\",\"4.867E24\",\"108.2\",\"35.0\"],\n",
        "                 [\"Tierra\",\"1\",\"365.2564\",\"5.972E24\",\"149.6\",\"29.8\"],\n",
        "                 [\"Marte\",\"1.52366\",\"686.9796\",\"6.417E23\",\"227.9\",\"24.1\"],\n",
        "                 [\"Jupiter\",\"5.20336\",\"4332.8201\",\"1.899E27\",\"778.6\",\"13.1\"],\n",
        "                 [\"Saturno\",\"9.53707\",\"10775.599\",\"5.685E26\",\"1433.5\",\"9.7\"],\n",
        "                 [\"Urano\",\"19.1913\",\"30687.153\",\"8.682E25\",\"2872.5\",\"6.8\"],\n",
        "                 [\"Neptuno\",\"30.0690\",\"60190.03\",\"1.024E26\",\"4495.1\",\"5.4\"]])\n",
        "\n",
        "def masa_kepler(planeta):\n",
        "    \"Las variables utilizadas están descritas en la dedución anteriormente hecha\"\n",
        "    a=float(planeta[1])*1.496E11\n",
        "    t=float(planeta[2])*86400\n",
        "    m=float(planeta[3])\n",
        "    G = 6.674E-11  # m³kg⁻¹s⁻²\n",
        "    masa= (((a**3)*4*(np.pi)**2)/((t**2)*G)) - m\n",
        "    return masa\n",
        "\n",
        "def masa_mcu(planeta):\n",
        "    \"Las variables utilizadas están descritas en la dedución anteriormente hecha\"\n",
        "    G = 6.674E-11  # m³kg⁻¹s⁻²\n",
        "    v = float(planeta[5])*1E3\n",
        "    r = float(planeta[4])*1E9\n",
        "    masaMCU = ((v**2)*r)/G\n",
        "    return masaMCU\n",
        "\n",
        "def masa_del_sol(planeta):\n",
        "    #Se ingresa el planeta que se quiere analizar.\n",
        "    #La variable planeta se ingresa en el array de datos buscando la colunma indicada de la variable \"datos\".\n",
        "\n",
        "    planeta_analizado= datos[planeta]\n",
        "    #Se evalúa de las dos formas en las funciones anteriores\n",
        "    fkepler = masa_kepler(planeta_analizado)\n",
        "    fmcu = masa_mcu(planeta_analizado)\n",
        "    planeta = datos[planeta][0]\n",
        "    return planeta, fkepler, fmcu"
      ],
      "execution_count": null,
      "outputs": []
    },
    {
      "cell_type": "markdown",
      "metadata": {
        "id": "4Z_JuSDrVzry",
        "colab_type": "text"
      },
      "source": [
        "*1. Evaluar todos los planetas del sistema solar (rocosos y gaseosos)*"
      ]
    },
    {
      "cell_type": "code",
      "metadata": {
        "id": "3wNvZIrDQwEQ",
        "colab_type": "code",
        "colab": {
          "base_uri": "https://localhost:8080/",
          "height": 629
        },
        "outputId": "99ac5612-d6de-44ca-e3b2-3b9d7a8ddaa4"
      },
      "source": [
        "print(\"Planetas rocosos\\n\")\n",
        "for i in range (1,5):\n",
        "    planeta, kep_calculo, mcu_calculo = masa_del_sol(i)\n",
        "    print(f\"({i}) La masa solar basado en el planeta: {planeta} \\n\"\n",
        "          f\"Kepler: {kep_calculo}\\n\"\n",
        "          f\"MCU: {mcu_calculo}\\n\")    \n",
        "print(\"Planetas gaseosos\\n\")\n",
        "for i in range (5,9):\n",
        "    planeta, kep_calculo, mcu_calculo = masa_del_sol(i)\n",
        "    print(f\"({i}) La masa solar basado en el planeta: {planeta} \\n\"\n",
        "          f\"Kepler: {kep_calculo}\\n\"\n",
        "          f\"MCU: {mcu_calculo}\\n\")"
      ],
      "execution_count": null,
      "outputs": [
        {
          "output_type": "stream",
          "text": [
            "Planetas rocosos\n",
            "\n",
            "(1) La masa solar basado en el planeta: Mercurio \n",
            "Kepler: 1.9886025847318315e+30\n",
            "MCU: 1.9491669763260416e+30\n",
            "\n",
            "(2) La masa solar basado en el planeta: Venus \n",
            "Kepler: 1.9885657868017523e+30\n",
            "MCU: 1.9859904105483968e+30\n",
            "\n",
            "(3) La masa solar basado en el planeta: Tierra \n",
            "Kepler: 1.9885836166527088e+30\n",
            "MCU: 1.9905721306562783e+30\n",
            "\n",
            "(4) La masa solar basado en el planeta: Marte \n",
            "Kepler: 1.9884615944220647e+30\n",
            "MCU: 1.9833173359304768e+30\n",
            "\n",
            "Planetas gaseosos\n",
            "\n",
            "(5) La masa solar basado en el planeta: Jupiter \n",
            "Kepler: 1.989008751333163e+30\n",
            "MCU: 2.0020309559484566e+30\n",
            "\n",
            "(6) La masa solar basado en el planeta: Saturno \n",
            "Kepler: 1.9814280684378886e+30\n",
            "MCU: 2.020947183098592e+30\n",
            "\n",
            "(7) La masa solar basado en el planeta: Urano \n",
            "Kepler: 1.9912320812033414e+30\n",
            "MCU: 1.990176805513935e+30\n",
            "\n",
            "(8) La masa solar basado en el planeta: Neptuno \n",
            "Kepler: 1.9907940201279014e+30\n",
            "MCU: 1.9639963440215764e+30\n",
            "\n"
          ],
          "name": "stdout"
        }
      ]
    },
    {
      "cell_type": "markdown",
      "metadata": {
        "id": "6b9MPLdTZQsU",
        "colab_type": "text"
      },
      "source": [
        "*2. Determinar cuál método da los valores superiores*"
      ]
    },
    {
      "cell_type": "code",
      "metadata": {
        "id": "ToYwTTSRanuI",
        "colab_type": "code",
        "colab": {
          "base_uri": "https://localhost:8080/",
          "height": 51
        },
        "outputId": "bb3e0d73-c501-40f1-e80f-3839a62f8eb8"
      },
      "source": [
        "suma_kepler = []\n",
        "suma_mcu = []\n",
        "for i in range (1,9):\n",
        "  planeta, kep_calculo, mcu_calculo = masa_del_sol(i)\n",
        "  suma_kepler.append(kep_calculo)\n",
        "  suma_mcu.append(kep_calculo)\n",
        "\n",
        "print(f\"La media de la tercera ley de Kepler es: {np.mean(suma_kepler)} y la media de MCU es: {np.mean(suma_mcu)}.\\n\" \n",
        "        \"Por lo tanto, no existe una diferencia aparente al evaluar todos los planetas del sistema solar con los dos métodos.\")\n",
        "\n",
        "\n",
        "  "
      ],
      "execution_count": null,
      "outputs": [
        {
          "output_type": "stream",
          "text": [
            "La media de la tercera ley de Kepler es: 1.9883345629638315e+30 y la media de MCU es: 1.9883345629638315e+30.\n",
            "Por lo tanto, no existe una diferencia aparente al evaluar todos los planetas del sistema solar con los dos métodos.\n"
          ],
          "name": "stdout"
        }
      ]
    },
    {
      "cell_type": "markdown",
      "metadata": {
        "id": "BPq0pDgLd8w_",
        "colab_type": "text"
      },
      "source": [
        "*3. Mayor desviación con la masa estándar del sol* \\\n",
        "y\n",
        "*4. Método que da mayor porcentaje de error*"
      ]
    },
    {
      "cell_type": "code",
      "metadata": {
        "id": "wtD2Bm_WeyCb",
        "colab_type": "code",
        "colab": {
          "base_uri": "https://localhost:8080/",
          "height": 663
        },
        "outputId": "f3d1415f-f22f-4258-d214-3c4761aaa476"
      },
      "source": [
        "masa_estandar_del_sol= 1.98847E30\n",
        "for i in range (1,9):\n",
        "  planeta, kep_calculo, mcu_calculo = masa_del_sol(i)\n",
        "  #Formula del porcentaje de error (experimental-teórica)/(teórica) *100\n",
        "  desviacion_kepler= (kep_calculo-masa_estandar_del_sol)/(masa_estandar_del_sol)*100\n",
        "  desviacion_mcu= (mcu_calculo-masa_estandar_del_sol)/(masa_estandar_del_sol)*100\n",
        "\n",
        "  print(f\"Desviación planeta: {planeta}\\n\"\n",
        "        f\"Con Kepler: {np.round(np.abs(desviacion_kepler),3)}%\\n\"\n",
        "        f\"Con MCU: {np.round(np.abs(desviacion_mcu),3)}%\\n\")\n",
        "\n",
        "print(\"Con las leyes de Kepler Urano es quien da un mayor porcentaje de error, aunque no tan significativo.\\n\"\n",
        "      \"Sin embargo, con MCU, Mercurio da un porcentaje de error de casi el 2%. Este es un error no tan grande, pero sí bastante significativo \\n\"\n",
        "      \"a la hora de hacer cálculos. Esto es posible asociarlo al problema que mercurio representó históricamente hasta que Einstein lo explicó\\n\"\n",
        "      \"con su teoría de relatividad general. Diciendo que se debía al desplazamiento del perihelio.\\n\"\n",
        "      \"Por otro lado, se hace evidente que el método de MCU da una desviación mucho más grande. Esto se puede explicar, ya que la idea del\\n\"\n",
        "      \"MCU es un precursor de las leyes de Kepler; el cual utiliza un método con menos parámetros para explicar el movimiento de los astros.\")"
      ],
      "execution_count": null,
      "outputs": [
        {
          "output_type": "stream",
          "text": [
            "Desviación planeta: Mercurio\n",
            "Con Kepler: 0.007%\n",
            "Con MCU: 1.977%\n",
            "\n",
            "Desviación planeta: Venus\n",
            "Con Kepler: 0.005%\n",
            "Con MCU: 0.125%\n",
            "\n",
            "Desviación planeta: Tierra\n",
            "Con Kepler: 0.006%\n",
            "Con MCU: 0.106%\n",
            "\n",
            "Desviación planeta: Marte\n",
            "Con Kepler: 0.0%\n",
            "Con MCU: 0.259%\n",
            "\n",
            "Desviación planeta: Jupiter\n",
            "Con Kepler: 0.027%\n",
            "Con MCU: 0.682%\n",
            "\n",
            "Desviación planeta: Saturno\n",
            "Con Kepler: 0.354%\n",
            "Con MCU: 1.633%\n",
            "\n",
            "Desviación planeta: Urano\n",
            "Con Kepler: 0.139%\n",
            "Con MCU: 0.086%\n",
            "\n",
            "Desviación planeta: Neptuno\n",
            "Con Kepler: 0.117%\n",
            "Con MCU: 1.231%\n",
            "\n",
            "Con las leyes de Kepler Urano es quien da un mayor porcentaje de error, aunque no tan significativo.\n",
            "Sin embargo, con MCU, Mercurio da un porcentaje de error de casi el 2%. Este es un error no tan grande, pero sí bastante significativo \n",
            "a la hora de hacer cálculos. Esto es posible asociarlo al problema que mercurio representó históricamente hasta que Einstein lo explicó\n",
            "con su teoría de relatividad general. Diciendo que se debía al desplazamiento del perihelio.\n",
            "Por otro lado, se hace evidente que el método de MCU da una desviación mucho más grande. Esto se puede explicar, ya que la idea del\n",
            "MCU es un precursor de las leyes de Kepler; el cual utiliza un método con menos parámetros para explicar el movimiento de los astros.\n"
          ],
          "name": "stdout"
        }
      ]
    },
    {
      "cell_type": "markdown",
      "metadata": {
        "id": "RC0Qlb1C3EnI",
        "colab_type": "text"
      },
      "source": [
        "### **Problema 2**"
      ]
    },
    {
      "cell_type": "markdown",
      "metadata": {
        "id": "DODL7AiWrWEL",
        "colab_type": "text"
      },
      "source": [
        "Primer inciso:\n",
        "\n",
        "$$F=ma=\\frac{GMm}{r²}$$\n",
        "\n",
        "Ya que $a=g$, al simplificar:\n",
        "\n",
        "$$g=\\frac{GM}{r²}$$\n",
        "\n",
        "Se calculan los valores de la gravedad en los polos y en el ecuador utilizando esta fórmula."
      ]
    },
    {
      "cell_type": "code",
      "metadata": {
        "id": "lhcc2qMq3E2H",
        "colab_type": "code",
        "colab": {
          "base_uri": "https://localhost:8080/",
          "height": 51
        },
        "outputId": "26665253-61ec-4f76-f861-5edb546bebc1"
      },
      "source": [
        "Mt=5.972*10**(24) #kg\n",
        "G=6.674*10**(-11) #m³kg⁻¹s⁻²\n",
        "\n",
        "g_polo = G*Mt/((6.3568*10**6)**2)\n",
        "g_ecuador = G*Mt/((6.3781*10**6)**2)\n",
        "## Se utilizó el valor de 5.972*10**(24) kg para la masa de la Tierra (no estandarizada en el parcial).\n",
        "\n",
        "print(\"El valor de g en el polo, con un radio de R = 6.3568*10^6, es \"+str(g_polo)+\".\")\n",
        "print(\"El valor de g en el ecuador, con un radio de R = 6.3781*10^6, es \"+str(g_ecuador)+\".\")"
      ],
      "execution_count": null,
      "outputs": [
        {
          "output_type": "stream",
          "text": [
            "El valor de g en el polo, con un radio de R = 6.3568*10^6, es 9.863451330079851.\n",
            "El valor de g en el ecuador, con un radio de R = 6.3781*10^6, es 9.79768230560293.\n"
          ],
          "name": "stdout"
        }
      ]
    },
    {
      "cell_type": "code",
      "metadata": {
        "id": "3wGZVQr7KSAM",
        "colab_type": "code",
        "colab": {}
      },
      "source": [
        ""
      ],
      "execution_count": null,
      "outputs": []
    },
    {
      "cell_type": "markdown",
      "metadata": {
        "id": "-6EMNUelsuDu",
        "colab_type": "text"
      },
      "source": [
        "Segundo inciso:\n",
        "\n",
        "$$R(\\phi)=\\left(\\frac{(a^2\\cos(\\phi))^2+(b^2\\sin(\\phi))^2}{(a\\cos(\\phi))^2+(b\\sin(\\phi))^2}\\right)^{\\frac{1}{2}}$$\n",
        "\n",
        "Ya que $g=\\frac{GM}{r²}$, sustituimos $g(\\phi)=\\frac{GM}{R^{2}(\\phi)}$\n",
        "\n",
        "$$\\Rightarrow g(\\phi)=\\frac{GM}{\\left(\\frac{(a^2\\cos(\\phi))^2+(b^2\\sin(\\phi))^2}{(a\\cos(\\phi))^2+(b\\sin(\\phi))^2}\\right)}$$\n",
        "\n",
        "$$\\Rightarrow g(\\phi)= \\frac{GM((a\\cos(\\phi))^2+(b\\sin(\\phi))^2)}{(a^2\\cos(\\phi))^2+(b^2\\sin(\\phi))^2}$$\n",
        "\n",
        "Graficamos:"
      ]
    },
    {
      "cell_type": "code",
      "metadata": {
        "id": "vgitaJX8z0w1",
        "colab_type": "code",
        "colab": {
          "base_uri": "https://localhost:8080/",
          "height": 282
        },
        "outputId": "e28a2795-5fff-4f16-b82f-195982388c9d"
      },
      "source": [
        "#Importamos a pylab\n",
        "import pylab as pb #Importamos a pylab.\n",
        "\n",
        "#Definimos variables para el valor del radio de la Tierra\n",
        "b=6.3568*10**6 #En los polos\n",
        "a=6.3781*10**6 #En el ecuador\n",
        "\n",
        "#Definimos nuestro espacio de trabajo. Con pylab es fácil trabajar con un linspace.\n",
        "x=pb.linspace(0,2*pb.pi,1000) #Va de 0 a 2π, una revolución completa alrededor del planeta. x=φ\n",
        "COS=pb.cos(x) #Por más comodidad, definimos aquí el coseno de este linspace.\n",
        "\n",
        "try1=((a**(2)*COS)**(2)+(b**(2)*pb.sin(x))**(2)) #Numerador\n",
        "#pb.plot(x,try1)\n",
        "try2=((a*COS)**2+(b*pb.sin(x))**(2)) #Denominador\n",
        "#pb.plot(x,try2)\n",
        "\n",
        "d=try1/try2 #División\n",
        "#Rphi=pb.sqrt(d) #La raíz de eso es R(φ), pero necesitamos su cuadrado.\n",
        "gphi=G*Mt/d #g(φ) es R²=d.\n",
        "\n",
        "pb.plot(x,gphi) #Mostramos la gráfica."
      ],
      "execution_count": 33,
      "outputs": [
        {
          "output_type": "execute_result",
          "data": {
            "text/plain": [
              "[<matplotlib.lines.Line2D at 0x7fc2327d5438>]"
            ]
          },
          "metadata": {
            "tags": []
          },
          "execution_count": 33
        },
        {
          "output_type": "display_data",
          "data": {
            "image/png": "[encoded data removed]",
            "text/plain": [
              "<Figure size 432x288 with 1 Axes>"
            ]
          },
          "metadata": {
            "tags": [],
            "needs_background": "light"
          }
        }
      ]
    },
    {
      "cell_type": "markdown",
      "metadata": {
        "id": "ugaGPZhI--AS",
        "colab_type": "text"
      },
      "source": [
        "En radianes, $14.6º ≈ 0.229 rad$. "
      ]
    },
    {
      "cell_type": "markdown",
      "metadata": {
        "id": "WD6rIP1Y3E_o",
        "colab_type": "text"
      },
      "source": [
        "### **Problema 3**"
      ]
    },
    {
      "cell_type": "markdown",
      "metadata": {
        "id": "3pVQDiF0q1QW",
        "colab_type": "text"
      },
      "source": [
        "Deducción de la ecuación de escape:\n",
        "$$(K + U_g)_i = (K + U_g)_f $$\n",
        "\n",
        "''K<sub>ƒ</sub>'' = 0 debido a que la velocidad final es 0, y ''U<sub>gƒ</sub>'' = 0 debido a que la distancia final es infinita, entonces:\n",
        "\n",
        "<math>\\begin{align}\n",
        "  \\Rightarrow {} &\\frac{1}{2}mv_e^2 + \\frac{-GMm}{r} = 0 + 0 \\\\[3pt]\n",
        "  \\Rightarrow {} &v_e = \\sqrt{\\frac{2GM}{r}}\n",
        "\\end{align}</math>"
      ]
    },
    {
      "cell_type": "markdown",
      "metadata": {
        "id": "chgbF02VxkjV",
        "colab_type": "text"
      },
      "source": [
        "***Inciso 1 y 2:***"
      ]
    },
    {
      "cell_type": "code",
      "metadata": {
        "id": "TyzG-Okg3FLw",
        "colab_type": "code",
        "colab": {}
      },
      "source": [
        "#Se declaran los datos \n",
        "datos_escape = np.array([[\"Planeta\",\"M(E24 kg)\",\"D(E3m)\",\"V(E3 m/s)\"],\n",
        "                 [\"Mercurio\",\"0.330E24\",\"4879E3\",\"4.3E3\"],\n",
        "                 [\"Venus\",\"4.87E24\",\"12104E3\",\"10.4E3\"],\n",
        "                 [\"Tierra\",\"5.97E24\",\"12756E3\",\"11.2E3\"],\n",
        "                 [\"Marte\",\"0.642E24\",\"6792E3\",\"5.0E3\"],\n",
        "                 [\"Jupiter\",\"1898E24\",\"142984E3\",\"59.5E3\"],\n",
        "                 [\"Saturno\",\"568E24\",\"120536E3\",\"35.5E3\"],\n",
        "                 [\"Urano\",\"86.8E24\",\"51118E3\",\"21.3E3\"],\n",
        "                 [\"Neptuno\",\"102E24\",\"49528E3\",\"23.5E3\"],\n",
        "                 [\"Sol\", \"1.988E30\", \"696340E3\", \"617.5E3\"]\n",
        "\n",
        "                         ])\n",
        "#Variables necesarias para graficar la superficie 3D\n",
        "G = 6.674E-11  # m³kg⁻¹s⁻²\n",
        "R_tierra= 6.3781E6\n",
        "R_sol= 6.957E8\n",
        "M_sol = 1.988E30\n",
        "masa =[]\n",
        "radios=[]\n",
        "velocidades=[]\n",
        "s =[]\n",
        "s_normales=[]\n",
        "colors =[\"orange\",\"white\",\"blue\",\"red\",\"white\",\"black\",\"blue\",\"purple\",\"orange\"]\n",
        "\n",
        "#Con los ciclos for se rellenan las listas vacías con los datos pertinentes extraídos de datos_escape\n",
        "for planeta in datos_escape[1:len(datos_escape)]:\n",
        "    masa.append(float(planeta[1]))\n",
        "\n",
        "for planeta in datos_escape[1:len(datos_escape)]:\n",
        "    radios.append((float(planeta[2])/2))\n",
        "\n",
        "for planeta in datos_escape[1:len(datos_escape)]:\n",
        "    velocidades.append((float(planeta[3])))\n",
        "\n",
        "for radio in radios:\n",
        "    s.append(radio/R_tierra*35)\n",
        "\n",
        "for radio in radios:\n",
        "    s_normales.append(radio/R_tierra)\n"
      ],
      "execution_count": null,
      "outputs": []
    },
    {
      "cell_type": "code",
      "metadata": {
        "id": "NPzlf_hbtMPD",
        "colab_type": "code",
        "colab": {
          "base_uri": "https://localhost:8080/",
          "height": 248
        },
        "outputId": "fb871181-df45-40c9-f4a0-5f201af5f94c"
      },
      "source": [
        "#Se declaran los intervalos x/y que recorrerá la función.\n",
        "x = np.linspace(0.002E30, 2E30, 1000, endpoint=True)\n",
        "y = np.linspace(0.7E8, 4E8, 1000, endpoint=True)\n",
        "\n",
        "x, y = np.meshgrid(x, y)\n",
        "\n",
        "\n",
        "fig = plt.figure()\n",
        "ax = fig.gca(projection='3d')\n",
        "#Se declaran los planetas y su velocidades en la superficie\n",
        "ax.scatter(masa, radios, velocidades,s=s,c=colors, marker='o')\n",
        "#Se grafica la superficie completa de velocidades de escape\n",
        "ax.plot_surface(x, y, np.sqrt((2 * G * x) / y), color='blue', alpha=0.3)\n",
        "\n",
        "ax.set_xlabel('Masa (Kg)')\n",
        "ax.set_ylabel('Radio (m)')\n",
        "ax.set_zlabel('V. escape (m/s)')\n",
        "\n",
        "plt.show()"
      ],
      "execution_count": null,
      "outputs": [
        {
          "output_type": "display_data",
          "data": {
            "image/png": "[encoded data removed]",
            "text/plain": [
              "<Figure size 432x288 with 1 Axes>"
            ]
          },
          "metadata": {
            "tags": [],
            "needs_background": "light"
          }
        }
      ]
    },
    {
      "cell_type": "code",
      "metadata": {
        "id": "voDyBzWvuaXX",
        "colab_type": "code",
        "colab": {
          "base_uri": "https://localhost:8080/",
          "height": 170
        },
        "outputId": "dc85a41f-5d42-4b47-f771-36b884243c19"
      },
      "source": [
        "for planeta, comparado in zip(datos_escape[1:len(datos_escape)],s_normales):\n",
        "      print(f\"El radio de {planeta[0]} comparada a la tierra es {np.around(comparado,3)} tierras. Su velocidad de escape es: {planeta[3]}\")"
      ],
      "execution_count": null,
      "outputs": [
        {
          "output_type": "stream",
          "text": [
            "El radio de Mercurio comparada a la tierra es 0.382 tierras. Su velocidad de escape es: 4.3E3\n",
            "El radio de Venus comparada a la tierra es 0.949 tierras. Su velocidad de escape es: 10.4E3\n",
            "El radio de Tierra comparada a la tierra es 1.0 tierras. Su velocidad de escape es: 11.2E3\n",
            "El radio de Marte comparada a la tierra es 0.532 tierras. Su velocidad de escape es: 5.0E3\n",
            "El radio de Jupiter comparada a la tierra es 11.209 tierras. Su velocidad de escape es: 59.5E3\n",
            "El radio de Saturno comparada a la tierra es 9.449 tierras. Su velocidad de escape es: 35.5E3\n",
            "El radio de Urano comparada a la tierra es 4.007 tierras. Su velocidad de escape es: 21.3E3\n",
            "El radio de Neptuno comparada a la tierra es 3.883 tierras. Su velocidad de escape es: 23.5E3\n",
            "El radio de Sol comparada a la tierra es 54.588 tierras. Su velocidad de escape es: 617.5E3\n"
          ],
          "name": "stdout"
        }
      ]
    },
    {
      "cell_type": "markdown",
      "metadata": {
        "id": "7KXXQswLxslM",
        "colab_type": "text"
      },
      "source": [
        "*Inciso 3 y 4:*\n"
      ]
    },
    {
      "cell_type": "code",
      "metadata": {
        "id": "_L3rUOXax7oZ",
        "colab_type": "code",
        "colab": {}
      },
      "source": [
        "Objetos= [[\"Objeto\",\"V.orbital(m/s)\",\"Distancia (m)\"],\n",
        "          [\"ISS\",\"7.66E3\",\"340E3\"],\n",
        "          [\"Luna\",\"1.02E3\",\"384400E3\"],\n",
        "          [\"GOES-S\", \"3.07E3\", \"35783.8E3\"]\n",
        "          ]\n",
        "G = 6.674E-11  # m³kg⁻¹s⁻²\n",
        "R_tierra= 6.3781E6\n",
        "M_tierra= 5.97E24 #m\n",
        "\n",
        "#Se declaran las distancias que recorrerán las ecuaciones de velocidad de escape y orbital. \n",
        "x1 = np.linspace(0,500000E3,10000)\n",
        "y1 = np.sqrt((2*G*M_tierra)/(R_tierra+x1))\n",
        "y2 = np.sqrt((G*M_tierra)/(R_tierra+x1))"
      ],
      "execution_count": 30,
      "outputs": []
    },
    {
      "cell_type": "code",
      "metadata": {
        "id": "fv9qCm5dSyIW",
        "colab_type": "code",
        "colab": {
          "base_uri": "https://localhost:8080/",
          "height": 295
        },
        "outputId": "bc2ae9e0-a160-4955-b10b-208810e9ea91"
      },
      "source": [
        "\n",
        "plt.plot(x1, y1, '-r', label=r'$v= \\sqrt{\\frac{2GM}{R+x}}$',c=\"purple\")\n",
        "plt.plot(x1, y2, '-r', label=r'$v= \\sqrt{\\frac{GM}{R+x}}$',c=\"green\")\n",
        "#Puntos para la ISS, la luna y el GOES-S \n",
        "plt.plot(float(Objetos[1][2]), float(Objetos[1][1]), 'o', label=\"ISS\",c=\"blue\")\n",
        "plt.plot(float(Objetos[2][2]), float(Objetos[2][1]), 'o', label=\"Luna\",c=\"red\")\n",
        "plt.plot(float(Objetos[3][2]), float(Objetos[3][1]), 'o', label=\"GOES-S\",c=\"orange\")\n",
        "\n",
        "\n",
        "plt.title(\"Velocidad de escape/orbital en función de la distancia\")\n",
        "plt.xlabel('Distancia a partir de la superficie terrestre (m)', color='blue')\n",
        "plt.ylabel('Velocidad de escape/orbital (m/s)', color='blue')\n",
        "plt.legend(loc='upper right')\n",
        "plt.grid()\n",
        "plt.show()"
      ],
      "execution_count": 32,
      "outputs": [
        {
          "output_type": "display_data",
          "data": {
            "image/png": "[encoded data removed]",
            "text/plain": [
              "<Figure size 432x288 with 1 Axes>"
            ]
          },
          "metadata": {
            "tags": [],
            "needs_background": "light"
          }
        }
      ]
    },
    {
      "cell_type": "markdown",
      "metadata": {
        "id": "c5Z8XyOxWooM",
        "colab_type": "text"
      },
      "source": [
        "a) Las ecuaciones que representan las gráficas son: \\\n",
        "Velocidad de escape: \\\n",
        "$$V_{escape}=\\sqrt{\\frac{2GM}{R}}$$\n",
        "\n",
        "Velocidad orbital: \\\n",
        "$$V_{orbital}=\\sqrt{\\frac{GM}{R}}$$\n",
        "$$\\therefore V_{escape}= \\sqrt{2}V_{orbital}$$\n",
        "Es decir que las gráficas nunca se intersectan, ya que siempre existe una relación de $\\sqrt{2}$ entre la  $V_{escape}$ y la $V_{orbital}$. "
      ]
    },
    {
      "cell_type": "code",
      "metadata": {
        "id": "uFZIXRiIT4Wv",
        "colab_type": "code",
        "colab": {
          "base_uri": "https://localhost:8080/",
          "height": 85
        },
        "outputId": "20238251-431c-4ead-83e9-eb6a358f4ddd"
      },
      "source": [
        "print(\"b)\")\n",
        "for objeto in Objetos[1:len(Objetos)]:\n",
        "  print(f\"Objeto: {objeto[0]}. Velocidad orbital: {objeto[1]} (m/s). Ditancia: {objeto[2]} m\")"
      ],
      "execution_count": 36,
      "outputs": [
        {
          "output_type": "stream",
          "text": [
            "2.\n",
            "Objeto: ISS. Velocidad orbital: 7.66E3 (m/s). Ditancia: 340E3 m\n",
            "Objeto: Luna. Velocidad orbital: 1.02E3 (m/s). Ditancia: 384400E3 m\n",
            "Objeto: GOES-S. Velocidad orbital: 3.07E3 (m/s). Ditancia: 35783.8E3 m\n"
          ],
          "name": "stdout"
        }
      ]
    },
    {
      "cell_type": "markdown",
      "metadata": {
        "id": "Ku1z8paVa3oI",
        "colab_type": "text"
      },
      "source": [
        "c) Lo curioso de los valores de **Geostationary Operational Environmental Satellite** (Modelo GOES-S en actividad) es que se encuentra en un punto de inflexión de la gráfica de la velocidad orbital. Además, pareciera indicar que se encuentra en el punto más alejado de la gráfica de la velocidad de escape. "
      ]
    },
    {
      "cell_type": "markdown",
      "metadata": {
        "id": "RU0Q8-7Q3FcY",
        "colab_type": "text"
      },
      "source": [
        "Problema 4"
      ]
    },
    {
      "cell_type": "code",
      "metadata": {
        "id": "1lvuqu43T3Kn",
        "colab_type": "code",
        "colab": {}
      },
      "source": [
        ""
      ],
      "execution_count": null,
      "outputs": []
    },
    {
      "cell_type": "markdown",
      "metadata": {
        "id": "E0OBA3j93FwZ",
        "colab_type": "text"
      },
      "source": [
        "Problema 5"
      ]
    },
    {
      "cell_type": "code",
      "metadata": {
        "id": "NeSV5er93F5R",
        "colab_type": "code",
        "colab": {}
      },
      "source": [
        ""
      ],
      "execution_count": null,
      "outputs": []
    }
  ]
}