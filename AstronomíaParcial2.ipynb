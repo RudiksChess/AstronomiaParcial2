{
  "nbformat": 4,
  "nbformat_minor": 0,
  "metadata": {
    "colab": {
      "name": "AstronomíaParcial2.ipynb",
      "provenance": [],
      "collapsed_sections": [],
      "include_colab_link": true
    },
    "kernelspec": {
      "name": "python3",
      "display_name": "Python 3"
    }
  },
  "cells": [
    {
      "cell_type": "markdown",
      "metadata": {
        "id": "view-in-github",
        "colab_type": "text"
      },
      "source": [
        "<a href=\"https://colab.research.google.com/github/RudiksChess/AstronomiaParcial2/blob/master/Astronom%C3%ADaParcial2.ipynb\" target=\"_parent\"><img src=\"https://colab.research.google.com/assets/colab-badge.svg\" alt=\"Open In Colab\"/></a>"
      ]
    },
    {
      "cell_type": "markdown",
      "metadata": {
        "id": "EqXsKmt-1K8j",
        "colab_type": "text"
      },
      "source": [
        "**Universidad del Valle de Guatemala**\\\n",
        "**Introducción a la astronomía**\\\n",
        "**Parcial 2**\\\n",
        "**Dra. Kristhell López**"
      ]
    },
    {
      "cell_type": "markdown",
      "metadata": {
        "id": "4jPDjqCY2HuK",
        "colab_type": "text"
      },
      "source": [
        "Integrantes:\n",
        "1. Rudik Roberto Rompich – Carné 19857\n",
        "2. Baptiste Henri Bauer – Carné 171501"
      ]
    },
    {
      "cell_type": "markdown",
      "metadata": {
        "id": "T7HUCdDF2mDE",
        "colab_type": "text"
      },
      "source": [
        "Paquetes:"
      ]
    },
    {
      "cell_type": "code",
      "metadata": {
        "id": "h58W0rEK2sLb",
        "colab_type": "code",
        "colab": {}
      },
      "source": [
        "import numpy as np \n",
        "import scipy \n",
        "import matplotlib as plt\n",
        "import sympy as sp"
      ],
      "execution_count": null,
      "outputs": []
    },
    {
      "cell_type": "markdown",
      "metadata": {
        "id": "wOI-sdiV29fZ",
        "colab_type": "text"
      },
      "source": [
        "### **Problema 1** "
      ]
    },
    {
      "cell_type": "markdown",
      "metadata": {
        "id": "0aqCgjiHCdwy",
        "colab_type": "text"
      },
      "source": [
        "$Tercera$ $ley$ $de$ $Kepler$\\\n",
        "La ecuación dada es la siguiente: \n",
        "\n",
        "$$mr\\omega^2 = G\\frac{mM}{r^2}$$\n",
        "\n",
        "$$mr\\left(\\frac{2\\pi}{T}\\right)^2 = G\\frac{mM}{r^2} \\rightarrow T^2 = \\left(\\frac{4\\pi^2}{GM} \\right)r^3 \\rightarrow  T^2 \\propto r^3$$\n",
        "$$\\frac{a^3}{T^2} = \\frac{G(M + m)}{4\\pi^2} $$\n",
        "\n",
        "Despejando para M \n",
        "\n",
        "$$ M = \\frac{a^{3}4\\pi^2}{T^{2}G} - m$$\n",
        "\n",
        "$Movimiento$ $circular$ $uniforme$\\\n",
        "La ecuación dada es la siguiente: \n",
        "\n",
        "$$ F_{gravedad} = F_{centrípeda}$$\n",
        "$$G\\frac{Mm}{r^2} = \\frac{mv^2}{r}$$\n",
        "\n",
        "Despejando para M:\n",
        "\n",
        "\n",
        "$$ M = \\frac{v^2 r}{G}$$\n",
        "\n",
        "En ambos casos: \\\n",
        "$M$ es la masa del sol.\\\n",
        "$m$ es la masa del planeta.\\\n",
        "$T$ es el período orbitanl.\\\n",
        "$a$ es el semieje mayor elíptico.\\\n",
        "$r$ es el radio del planeta. \\\n",
        "$G$ constante universal de gravitación.\\\n",
        "$v$ velocidad centrípeta del planeta alrededor del sol.\n",
        " \n",
        "\n",
        " "
      ]
    },
    {
      "cell_type": "code",
      "metadata": {
        "id": "boBGSktQ3ERZ",
        "colab_type": "code",
        "colab": {}
      },
      "source": [
        "datos = np.array([[\"Planeta\",\"Eje semimayor (AU)\",\"Período (días)\",\"Masa (Kg)\",\"R(km)\", \"V. Orbital (km/s)\"],\n",
        "                 [\"Mercurio\",\"0.38710\",\"87.9693\",\"3.301E23\",\"57.9\",\"47.4\"],\n",
        "                 [\"Venus\",\"0.72333\",\"224.7008\",\"4.867E24\",\"108.2\",\"35.0\"],\n",
        "                 [\"Tierra\",\"1\",\"365.2564\",\"5.972E24\",\"149.6\",\"29.8\"],\n",
        "                 [\"Marte\",\"1.52366\",\"686.9796\",\"6.417E23\",\"227.9\",\"24.1\"],\n",
        "                 [\"Jupiter\",\"5.20336\",\"4332.8201\",\"1.899E27\",\"778.6\",\"13.1\"],\n",
        "                 [\"Saturno\",\"9.53707\",\"10775.599\",\"5.685E26\",\"1433.5\",\"9.7\"],\n",
        "                 [\"Urano\",\"19.1913\",\"30687.153\",\"8.682E25\",\"2872.5\",\"6.8\"],\n",
        "                 [\"Neptuno\",\"30.0690\",\"60190.03\",\"1.024E26\",\"4495.1\",\"5.4\"]])\n",
        "\n",
        "def masa_kepler(planeta):\n",
        "    \"Las variables utilizadas están descritas en la dedución anteriormente hecha\"\n",
        "    a=float(planeta[1])*1.496E11\n",
        "    t=float(planeta[2])*86400\n",
        "    m=float(planeta[3])\n",
        "    G = 6.674E-11  # m³kg⁻¹s⁻²\n",
        "    masa= (((a**3)*4*(np.pi)**2)/((t**2)*G)) - m\n",
        "    return masa\n",
        "\n",
        "def masa_mcu(planeta):\n",
        "    \"Las variables utilizadas están descritas en la dedución anteriormente hecha\"\n",
        "    G = 6.674E-11  # m³kg⁻¹s⁻²\n",
        "    v = float(planeta[5])*1E3\n",
        "    r = float(planeta[4])*1E9\n",
        "    masaMCU = ((v**2)*r)/G\n",
        "    return masaMCU\n",
        "\n",
        "def masa_del_sol(planeta):\n",
        "    #Se ingresa el planeta que se quiere analizar.\n",
        "    #La variable planeta se ingresa en el array de datos buscando la colunma indicada de la variable \"datos\".\n",
        "\n",
        "    planeta_analizado= datos[planeta]\n",
        "    #Se evalúa de las dos formas en las funciones anteriores\n",
        "    fkepler = masa_kepler(planeta_analizado)\n",
        "    fmcu = masa_mcu(planeta_analizado)\n",
        "    planeta = datos[planeta][0]\n",
        "    return planeta, fkepler, fmcu"
      ],
      "execution_count": null,
      "outputs": []
    },
    {
      "cell_type": "markdown",
      "metadata": {
        "id": "4Z_JuSDrVzry",
        "colab_type": "text"
      },
      "source": [
        "*1. Evaluar todos los planetas del sistema solar (rocosos y gaseosos)*"
      ]
    },
    {
      "cell_type": "code",
      "metadata": {
        "id": "3wNvZIrDQwEQ",
        "colab_type": "code",
        "colab": {
          "base_uri": "https://localhost:8080/",
          "height": 629
        },
        "outputId": "33a358b9-2832-4b04-d248-35b04813279a"
      },
      "source": [
        "print(\"Planetas rocosos\\n\")\n",
        "for i in range (1,5):\n",
        "    planeta, kep_calculo, mcu_calculo = masa_del_sol(i)\n",
        "    print(f\"({i}) La masa solar basado en el planeta: {planeta} \\n\"\n",
        "          f\"Kepler: {kep_calculo}\\n\"\n",
        "          f\"MCU: {mcu_calculo}\\n\")    \n",
        "print(\"Planetas gaseosos\\n\")\n",
        "for i in range (5,9):\n",
        "    planeta, kep_calculo, mcu_calculo = masa_del_sol(i)\n",
        "    print(f\"({i}) La masa solar basado en el planeta: {planeta} \\n\"\n",
        "          f\"Kepler: {kep_calculo}\\n\"\n",
        "          f\"MCU: {mcu_calculo}\\n\")"
      ],
      "execution_count": null,
      "outputs": [
        {
          "output_type": "stream",
          "text": [
            "Planetas rocosos\n",
            "\n",
            "(1) La masa solar basado en el planeta: Mercurio \n",
            "Kepler: 1.9886025847318315e+30\n",
            "MCU: 1.9491669763260416e+30\n",
            "\n",
            "(2) La masa solar basado en el planeta: Venus \n",
            "Kepler: 1.9885657868017523e+30\n",
            "MCU: 1.9859904105483968e+30\n",
            "\n",
            "(3) La masa solar basado en el planeta: Tierra \n",
            "Kepler: 1.9885836166527088e+30\n",
            "MCU: 1.9905721306562783e+30\n",
            "\n",
            "(4) La masa solar basado en el planeta: Marte \n",
            "Kepler: 1.9884615944220647e+30\n",
            "MCU: 1.9833173359304768e+30\n",
            "\n",
            "Planetas gaseosos\n",
            "\n",
            "(5) La masa solar basado en el planeta: Jupiter \n",
            "Kepler: 1.989008751333163e+30\n",
            "MCU: 2.0020309559484566e+30\n",
            "\n",
            "(6) La masa solar basado en el planeta: Saturno \n",
            "Kepler: 1.9814280684378886e+30\n",
            "MCU: 2.020947183098592e+30\n",
            "\n",
            "(7) La masa solar basado en el planeta: Urano \n",
            "Kepler: 1.9912320812033414e+30\n",
            "MCU: 1.990176805513935e+30\n",
            "\n",
            "(8) La masa solar basado en el planeta: Neptuno \n",
            "Kepler: 1.9907940201279014e+30\n",
            "MCU: 1.9639963440215764e+30\n",
            "\n"
          ],
          "name": "stdout"
        }
      ]
    },
    {
      "cell_type": "markdown",
      "metadata": {
        "id": "6b9MPLdTZQsU",
        "colab_type": "text"
      },
      "source": [
        "*2. Determinar cuál método da los valores superiores*"
      ]
    },
    {
      "cell_type": "code",
      "metadata": {
        "id": "ToYwTTSRanuI",
        "colab_type": "code",
        "colab": {
          "base_uri": "https://localhost:8080/",
          "height": 51
        },
        "outputId": "8ca2a070-a34f-40ef-f053-249e25cd537f"
      },
      "source": [
        "suma_kepler = []\n",
        "suma_mcu = []\n",
        "for i in range (1,9):\n",
        "  planeta, kep_calculo, mcu_calculo = masa_del_sol(i)\n",
        "  suma_kepler.append(kep_calculo)\n",
        "  suma_mcu.append(kep_calculo)\n",
        "\n",
        "print(f\"La media de la tercera ley de Kepler es: {np.mean(suma_kepler)} y la media de MCU es: {np.mean(suma_mcu)}.\\n\" \n",
        "        \"Por lo tanto, no existe una diferencia aparente al evaluar todos los planetas del sistema solar con los dos métodos.\")\n",
        "\n",
        "\n",
        "  "
      ],
      "execution_count": null,
      "outputs": [
        {
          "output_type": "stream",
          "text": [
            "La media de la tercera ley de Kepler es: 1.9883345629638315e+30 y la media de MCU es: 1.9883345629638315e+30.\n",
            "Por lo tanto no existe una diferencia aparente al evaluar todos los planetas del sistema solar con los dos métodos.\n"
          ],
          "name": "stdout"
        }
      ]
    },
    {
      "cell_type": "markdown",
      "metadata": {
        "id": "BPq0pDgLd8w_",
        "colab_type": "text"
      },
      "source": [
        "*3. Mayor desviación con la masa estándar del sol* \\\n",
        "y\n",
        "*4. Método que da mayor porcentaje de error*"
      ]
    },
    {
      "cell_type": "code",
      "metadata": {
        "id": "wtD2Bm_WeyCb",
        "colab_type": "code",
        "colab": {
          "base_uri": "https://localhost:8080/",
          "height": 663
        },
        "outputId": "25465395-f11e-42e2-bda8-5bca08e2f00d"
      },
      "source": [
        "masa_estandar_del_sol= 1.98847E30\n",
        "for i in range (1,9):\n",
        "  planeta, kep_calculo, mcu_calculo = masa_del_sol(i)\n",
        "  #Formula del porcentaje de error (experimental-teórica)/(teórica) *100\n",
        "  desviacion_kepler= (kep_calculo-masa_estandar_del_sol)/(masa_estandar_del_sol)*100\n",
        "  desviacion_mcu= (mcu_calculo-masa_estandar_del_sol)/(masa_estandar_del_sol)*100\n",
        "\n",
        "  print(f\"Desviación planeta: {planeta}\\n\"\n",
        "        f\"Con Kepler: {np.round(np.abs(desviacion_kepler),3)}%\\n\"\n",
        "        f\"Con MCU: {np.round(np.abs(desviacion_mcu),3)}%\\n\")\n",
        "\n",
        "print(\"Con las leyes de Kepler Urano es quien da un mayor porcentaje de error, aunque no tan significativo.\\n\"\n",
        "      \"Sin embargo, con MCU, Mercurio da un porcentaje de error de casi el 2%. Este es un error no tan grande, pero sí bastante significativo \\n\"\n",
        "      \"a la hora de hacer cálculos. Esto es posible asociarlo al problema que mercurio representó históricamente hasta que Einstein lo explicó\\n\"\n",
        "      \"con su teoría de relatividad general. Diciendo que se debía al desplazamiento del perihelio.\\n\"\n",
        "      \"Por otro lado, se hace evidente que el método de MCU da una desviación mucho más grande. Esto se puede explicar, ya que la idea del\\n\"\n",
        "      \"MCU es un precursor de las leyes de Kepler; el cual utiliza un método con menos parámetros para explicar el movimiento de los astros.\")"
      ],
      "execution_count": null,
      "outputs": [
        {
          "output_type": "stream",
          "text": [
            "Desviación planeta: Mercurio\n",
            "Con Kepler: 0.007%\n",
            "Con MCU: 1.977%\n",
            "\n",
            "Desviación planeta: Venus\n",
            "Con Kepler: 0.005%\n",
            "Con MCU: 0.125%\n",
            "\n",
            "Desviación planeta: Tierra\n",
            "Con Kepler: 0.006%\n",
            "Con MCU: 0.106%\n",
            "\n",
            "Desviación planeta: Marte\n",
            "Con Kepler: 0.0%\n",
            "Con MCU: 0.259%\n",
            "\n",
            "Desviación planeta: Jupiter\n",
            "Con Kepler: 0.027%\n",
            "Con MCU: 0.682%\n",
            "\n",
            "Desviación planeta: Saturno\n",
            "Con Kepler: 0.354%\n",
            "Con MCU: 1.633%\n",
            "\n",
            "Desviación planeta: Urano\n",
            "Con Kepler: 0.139%\n",
            "Con MCU: 0.086%\n",
            "\n",
            "Desviación planeta: Neptuno\n",
            "Con Kepler: 0.117%\n",
            "Con MCU: 1.231%\n",
            "\n",
            "Con las leyes de Kepler Urano es quien da un mayor porcentaje de error, aunque no tan significativo.\n",
            "Sin embargo, con MCU, Mercurio da un porcentaje de error de casi el 2%. Este es un error no tan grande, pero sí bastante significativo \n",
            "a la hora de hacer cálculos. Esto es posible asociarlo al problema que mercurio representó históricamente hasta que Einstein lo explicó\n",
            " con su teoría de relatividad general. Diciendo que se debía al desplazamiento del perihelio.\n",
            "Por otro lado, se hace evidente que el método de MCU da una desviación mucho más grande. Esto se puede explicar, ya que la idea del\n",
            "MCU es un precursor de las leyes de Kepler; el cual utiliza un método con menos parámetros para explicar el movimiento de los astros.\n"
          ],
          "name": "stdout"
        }
      ]
    },
    {
      "cell_type": "markdown",
      "metadata": {
        "id": "RC0Qlb1C3EnI",
        "colab_type": "text"
      },
      "source": [
        "### **Problema 2**"
      ]
    },
    {
      "cell_type": "markdown",
      "metadata": {
        "id": "DODL7AiWrWEL",
        "colab_type": "text"
      },
      "source": [
        "Primer inciso:\n",
        "\n",
        "$$F=ma=\\frac{GMm}{r²}$$\n",
        "\n",
        "Ya que $a=g$, al simplificar:\n",
        "\n",
        "$$g=\\frac{GM}{r²}$$\n",
        "\n",
        "Se calculan los valores de la gravedad en los polos y en el ecuador utilizando esta fórmula."
      ]
    },
    {
      "cell_type": "code",
      "metadata": {
        "id": "lhcc2qMq3E2H",
        "colab_type": "code",
        "colab": {
          "base_uri": "https://localhost:8080/",
          "height": 52
        },
        "outputId": "b70e4365-114b-429e-8387-5bfa51df6330"
      },
      "source": [
        "Mt=5.972*10**(24) #kg\n",
        "G=6.674*10**(-11) #m³kg⁻¹s⁻²\n",
        "\n",
        "g_polo = G*Mt/((6.3568*10**6)**2)\n",
        "g_ecuador = G*Mt/((6.3781*10**6)**2)\n",
        "## Se utilizó el valor de 5.972*10**(24) kg para la masa de la Tierra (no estandarizada en el parcial).\n",
        "\n",
        "print(\"El valor de g en el polo, con un radio de R = 6.3568*10^6, es \"+str(g_polo)+\".\")\n",
        "print(\"El valor de g en el ecuador, con un radio de R = 6.3781*10^6, es \"+str(g_ecuador)+\".\")"
      ],
      "execution_count": null,
      "outputs": [
        {
          "output_type": "stream",
          "text": [
            "El valor de g en el polo, con un radio de R = 6.3568*10^6, es 9.863451330079851.\n",
            "El valor de g en el ecuador, con un radio de R = 6.3781*10^6, es 9.79768230560293.\n"
          ],
          "name": "stdout"
        }
      ]
    },
    {
      "cell_type": "code",
      "metadata": {
        "id": "3wGZVQr7KSAM",
        "colab_type": "code",
        "colab": {}
      },
      "source": [
        ""
      ],
      "execution_count": null,
      "outputs": []
    },
    {
      "cell_type": "markdown",
      "metadata": {
        "id": "-6EMNUelsuDu",
        "colab_type": "text"
      },
      "source": [
        "Segundo inciso:\n",
        "\n",
        "$$R(\\phi)=\\left(\\frac{(a^2\\cos(\\phi))^2+(b^2\\sin(\\phi))^2}{(a\\cos(\\phi))^2+(b\\sin(\\phi))^2}\\right)^{\\frac{1}{2}}$$\n",
        "\n",
        "Ya que $g=\\frac{GM}{r²}$, sustituimos $g(\\phi)=\\frac{GM}{R^{2}(\\phi)}$\n",
        "\n",
        "$$\\Rightarrow g(\\phi)=\\frac{GM}{\\left(\\frac{(a^2\\cos(\\phi))^2+(b^2\\sin(\\phi))^2}{(a\\cos(\\phi))^2+(b\\sin(\\phi))^2}\\right)}$$\n",
        "\n",
        "$$\\Rightarrow g(\\phi)= \\frac{GM((a\\cos(\\phi))^2+(b\\sin(\\phi))^2)}{(a^2\\cos(\\phi))^2+(b^2\\sin(\\phi))^2}$$\n",
        "\n",
        "Graficamos:"
      ]
    },
    {
      "cell_type": "code",
      "metadata": {
        "id": "vgitaJX8z0w1",
        "colab_type": "code",
        "colab": {
          "base_uri": "https://localhost:8080/",
          "height": 282
        },
        "outputId": "945e7e71-6fc9-41e2-c56f-55c2e1012e7f"
      },
      "source": [
        "#Importamos a pylab\n",
        "import pylab as pb #Importamos a pylab.\n",
        "\n",
        "#Definimos variables para el valor del radio de la Tierra\n",
        "b=6.3568*10**6 #En los polos\n",
        "a=6.3781*10**6 #En el ecuador\n",
        "\n",
        "#Definimos nuestro espacio de trabajo. Con pylab es fácil trabajar con un linspace.\n",
        "x=pb.linspace(0,2*pb.pi,1000) #Va de 0 a 2π, una revolución completa alrededor del planeta. x=φ\n",
        "COS=pb.cos(x) #Por más comodidad, definimos aquí el coseno de este linspace.\n",
        "\n",
        "try1=((a**(2)*COS)**(2)+(b**(2)*pb.sin(x))**(2)) #Numerador\n",
        "#pb.plot(x,try1)\n",
        "try2=((a*COS)**2+(b*pb.sin(x))**(2)) #Denominador\n",
        "#pb.plot(x,try2)\n",
        "\n",
        "d=try1/try2 #División\n",
        "#Rphi=pb.sqrt(d) #La raíz de eso es R(φ), pero necesitamos su cuadrado.\n",
        "gphi=G*Mt/d #g(φ) es R²=d.\n",
        "\n",
        "pb.plot(x,gphi) #Mostramos la gráfica."
      ],
      "execution_count": null,
      "outputs": [
        {
          "output_type": "execute_result",
          "data": {
            "text/plain": [
              "[<matplotlib.lines.Line2D at 0x7f50453807f0>]"
            ]
          },
          "metadata": {
            "tags": []
          },
          "execution_count": 23
        },
        {
          "output_type": "display_data",
          "data": {
            "image/png": "[encoded data removed]",
            "text/plain": [
              "<Figure size 432x288 with 1 Axes>"
            ]
          },
          "metadata": {
            "tags": [],
            "needs_background": "light"
          }
        }
      ]
    },
    {
      "cell_type": "markdown",
      "metadata": {
        "id": "ugaGPZhI--AS",
        "colab_type": "text"
      },
      "source": [
        "En radianes, $14.6º ≈ 0.229 rad$. "
      ]
    },
    {
      "cell_type": "code",
      "metadata": {
        "id": "HC8UrdGgEiGD",
        "colab_type": "code",
        "colab": {
          "base_uri": "https://localhost:8080/",
          "height": 1000
        },
        "outputId": "a258a0bf-d9bc-4a4a-d419-5d606d9154ff"
      },
      "source": [
        ""
      ],
      "execution_count": null,
      "outputs": [
        {
          "output_type": "stream",
          "text": [
            "[0.         0.00628947 0.01257895 0.01886842 0.0251579  0.03144737\n",
            " 0.03773685 0.04402632 0.0503158  0.05660527 0.06289475 0.06918422\n",
            " 0.0754737  0.08176317 0.08805265 0.09434212 0.1006316  0.10692107\n",
            " 0.11321055 0.11950002 0.1257895  0.13207897 0.13836845 0.14465792\n",
            " 0.15094739 0.15723687 0.16352634 0.16981582 0.17610529 0.18239477\n",
            " 0.18868424 0.19497372 0.20126319 0.20755267 0.21384214 0.22013162\n",
            " 0.22642109 0.23271057 0.23900004 0.24528952 0.25157899 0.25786847\n",
            " 0.26415794 0.27044742 0.27673689 0.28302637 0.28931584 0.29560531\n",
            " 0.30189479 0.30818426 0.31447374 0.32076321 0.32705269 0.33334216\n",
            " 0.33963164 0.34592111 0.35221059 0.35850006 0.36478954 0.37107901\n",
            " 0.37736849 0.38365796 0.38994744 0.39623691 0.40252639 0.40881586\n",
            " 0.41510534 0.42139481 0.42768429 0.43397376 0.44026323 0.44655271\n",
            " 0.45284218 0.45913166 0.46542113 0.47171061 0.47800008 0.48428956\n",
            " 0.49057903 0.49686851 0.50315798 0.50944746 0.51573693 0.52202641\n",
            " 0.52831588 0.53460536 0.54089483 0.54718431 0.55347378 0.55976326\n",
            " 0.56605273 0.57234221 0.57863168 0.58492115 0.59121063 0.5975001\n",
            " 0.60378958 0.61007905 0.61636853 0.622658   0.62894748 0.63523695\n",
            " 0.64152643 0.6478159  0.65410538 0.66039485 0.66668433 0.6729738\n",
            " 0.67926328 0.68555275 0.69184223 0.6981317  0.70442118 0.71071065\n",
            " 0.71700013 0.7232896  0.72957907 0.73586855 0.74215802 0.7484475\n",
            " 0.75473697 0.76102645 0.76731592 0.7736054  0.77989487 0.78618435\n",
            " 0.79247382 0.7987633  0.80505277 0.81134225 0.81763172 0.8239212\n",
            " 0.83021067 0.83650015 0.84278962 0.8490791  0.85536857 0.86165805\n",
            " 0.86794752 0.87423699 0.88052647 0.88681594 0.89310542 0.89939489\n",
            " 0.90568437 0.91197384 0.91826332 0.92455279 0.93084227 0.93713174\n",
            " 0.94342122 0.94971069 0.95600017 0.96228964 0.96857912 0.97486859\n",
            " 0.98115807 0.98744754 0.99373702 1.00002649 1.00631597 1.01260544\n",
            " 1.01889491 1.02518439 1.03147386 1.03776334 1.04405281 1.05034229\n",
            " 1.05663176 1.06292124 1.06921071 1.07550019 1.08178966 1.08807914\n",
            " 1.09436861 1.10065809 1.10694756 1.11323704 1.11952651 1.12581599\n",
            " 1.13210546 1.13839494 1.14468441 1.15097389 1.15726336 1.16355283\n",
            " 1.16984231 1.17613178 1.18242126 1.18871073 1.19500021 1.20128968\n",
            " 1.20757916 1.21386863 1.22015811 1.22644758 1.23273706 1.23902653\n",
            " 1.24531601 1.25160548 1.25789496 1.26418443 1.27047391 1.27676338\n",
            " 1.28305286 1.28934233 1.29563181 1.30192128 1.30821075 1.31450023\n",
            " 1.3207897  1.32707918 1.33336865 1.33965813 1.3459476  1.35223708\n",
            " 1.35852655 1.36481603 1.3711055  1.37739498 1.38368445 1.38997393\n",
            " 1.3962634  1.40255288 1.40884235 1.41513183 1.4214213  1.42771078\n",
            " 1.43400025 1.44028973 1.4465792  1.45286867 1.45915815 1.46544762\n",
            " 1.4717371  1.47802657 1.48431605 1.49060552 1.496895   1.50318447\n",
            " 1.50947395 1.51576342 1.5220529  1.52834237 1.53463185 1.54092132\n",
            " 1.5472108  1.55350027 1.55978975 1.56607922 1.5723687  1.57865817\n",
            " 1.58494765 1.59123712 1.59752659 1.60381607 1.61010554 1.61639502\n",
            " 1.62268449 1.62897397 1.63526344 1.64155292 1.64784239 1.65413187\n",
            " 1.66042134 1.66671082 1.67300029 1.67928977 1.68557924 1.69186872\n",
            " 1.69815819 1.70444767 1.71073714 1.71702662 1.72331609 1.72960557\n",
            " 1.73589504 1.74218451 1.74847399 1.75476346 1.76105294 1.76734241\n",
            " 1.77363189 1.77992136 1.78621084 1.79250031 1.79878979 1.80507926\n",
            " 1.81136874 1.81765821 1.82394769 1.83023716 1.83652664 1.84281611\n",
            " 1.84910559 1.85539506 1.86168454 1.86797401 1.87426349 1.88055296\n",
            " 1.88684243 1.89313191 1.89942138 1.90571086 1.91200033 1.91828981\n",
            " 1.92457928 1.93086876 1.93715823 1.94344771 1.94973718 1.95602666\n",
            " 1.96231613 1.96860561 1.97489508 1.98118456 1.98747403 1.99376351\n",
            " 2.00005298 2.00634246 2.01263193 2.01892141 2.02521088 2.03150035\n",
            " 2.03778983 2.0440793  2.05036878 2.05665825 2.06294773 2.0692372\n",
            " 2.07552668 2.08181615 2.08810563 2.0943951  2.10068458 2.10697405\n",
            " 2.11326353 2.119553   2.12584248 2.13213195 2.13842143 2.1447109\n",
            " 2.15100038 2.15728985 2.16357932 2.1698688  2.17615827 2.18244775\n",
            " 2.18873722 2.1950267  2.20131617 2.20760565 2.21389512 2.2201846\n",
            " 2.22647407 2.23276355 2.23905302 2.2453425  2.25163197 2.25792145\n",
            " 2.26421092 2.2705004  2.27678987 2.28307935 2.28936882 2.2956583\n",
            " 2.30194777 2.30823724 2.31452672 2.32081619 2.32710567 2.33339514\n",
            " 2.33968462 2.34597409 2.35226357 2.35855304 2.36484252 2.37113199\n",
            " 2.37742147 2.38371094 2.39000042 2.39628989 2.40257937 2.40886884\n",
            " 2.41515832 2.42144779 2.42773727 2.43402674 2.44031622 2.44660569\n",
            " 2.45289516 2.45918464 2.46547411 2.47176359 2.47805306 2.48434254\n",
            " 2.49063201 2.49692149 2.50321096 2.50950044 2.51578991 2.52207939\n",
            " 2.52836886 2.53465834 2.54094781 2.54723729 2.55352676 2.55981624\n",
            " 2.56610571 2.57239519 2.57868466 2.58497414 2.59126361 2.59755308\n",
            " 2.60384256 2.61013203 2.61642151 2.62271098 2.62900046 2.63528993\n",
            " 2.64157941 2.64786888 2.65415836 2.66044783 2.66673731 2.67302678\n",
            " 2.67931626 2.68560573 2.69189521 2.69818468 2.70447416 2.71076363\n",
            " 2.71705311 2.72334258 2.72963206 2.73592153 2.742211   2.74850048\n",
            " 2.75478995 2.76107943 2.7673689  2.77365838 2.77994785 2.78623733\n",
            " 2.7925268  2.79881628 2.80510575 2.81139523 2.8176847  2.82397418\n",
            " 2.83026365 2.83655313 2.8428426  2.84913208 2.85542155 2.86171103\n",
            " 2.8680005  2.87428998 2.88057945 2.88686892 2.8931584  2.89944787\n",
            " 2.90573735 2.91202682 2.9183163  2.92460577 2.93089525 2.93718472\n",
            " 2.9434742  2.94976367 2.95605315 2.96234262 2.9686321  2.97492157\n",
            " 2.98121105 2.98750052 2.99379    3.00007947 3.00636895 3.01265842\n",
            " 3.0189479  3.02523737 3.03152684 3.03781632 3.04410579 3.05039527\n",
            " 3.05668474 3.06297422 3.06926369 3.07555317 3.08184264 3.08813212\n",
            " 3.09442159 3.10071107 3.10700054 3.11329002 3.11957949 3.12586897\n",
            " 3.13215844 3.13844792 3.14473739 3.15102687 3.15731634 3.16360582\n",
            " 3.16989529 3.17618476 3.18247424 3.18876371 3.19505319 3.20134266\n",
            " 3.20763214 3.21392161 3.22021109 3.22650056 3.23279004 3.23907951\n",
            " 3.24536899 3.25165846 3.25794794 3.26423741 3.27052689 3.27681636\n",
            " 3.28310584 3.28939531 3.29568479 3.30197426 3.30826374 3.31455321\n",
            " 3.32084268 3.32713216 3.33342163 3.33971111 3.34600058 3.35229006\n",
            " 3.35857953 3.36486901 3.37115848 3.37744796 3.38373743 3.39002691\n",
            " 3.39631638 3.40260586 3.40889533 3.41518481 3.42147428 3.42776376\n",
            " 3.43405323 3.44034271 3.44663218 3.45292166 3.45921113 3.4655006\n",
            " 3.47179008 3.47807955 3.48436903 3.4906585  3.49694798 3.50323745\n",
            " 3.50952693 3.5158164  3.52210588 3.52839535 3.53468483 3.5409743\n",
            " 3.54726378 3.55355325 3.55984273 3.5661322  3.57242168 3.57871115\n",
            " 3.58500063 3.5912901  3.59757958 3.60386905 3.61015852 3.616448\n",
            " 3.62273747 3.62902695 3.63531642 3.6416059  3.64789537 3.65418485\n",
            " 3.66047432 3.6667638  3.67305327 3.67934275 3.68563222 3.6919217\n",
            " 3.69821117 3.70450065 3.71079012 3.7170796  3.72336907 3.72965855\n",
            " 3.73594802 3.7422375  3.74852697 3.75481644 3.76110592 3.76739539\n",
            " 3.77368487 3.77997434 3.78626382 3.79255329 3.79884277 3.80513224\n",
            " 3.81142172 3.81771119 3.82400067 3.83029014 3.83657962 3.84286909\n",
            " 3.84915857 3.85544804 3.86173752 3.86802699 3.87431647 3.88060594\n",
            " 3.88689542 3.89318489 3.89947436 3.90576384 3.91205331 3.91834279\n",
            " 3.92463226 3.93092174 3.93721121 3.94350069 3.94979016 3.95607964\n",
            " 3.96236911 3.96865859 3.97494806 3.98123754 3.98752701 3.99381649\n",
            " 4.00010596 4.00639544 4.01268491 4.01897439 4.02526386 4.03155334\n",
            " 4.03784281 4.04413228 4.05042176 4.05671123 4.06300071 4.06929018\n",
            " 4.07557966 4.08186913 4.08815861 4.09444808 4.10073756 4.10702703\n",
            " 4.11331651 4.11960598 4.12589546 4.13218493 4.13847441 4.14476388\n",
            " 4.15105336 4.15734283 4.16363231 4.16992178 4.17621126 4.18250073\n",
            " 4.1887902  4.19507968 4.20136915 4.20765863 4.2139481  4.22023758\n",
            " 4.22652705 4.23281653 4.239106   4.24539548 4.25168495 4.25797443\n",
            " 4.2642639  4.27055338 4.27684285 4.28313233 4.2894218  4.29571128\n",
            " 4.30200075 4.30829023 4.3145797  4.32086918 4.32715865 4.33344812\n",
            " 4.3397376  4.34602707 4.35231655 4.35860602 4.3648955  4.37118497\n",
            " 4.37747445 4.38376392 4.3900534  4.39634287 4.40263235 4.40892182\n",
            " 4.4152113  4.42150077 4.42779025 4.43407972 4.4403692  4.44665867\n",
            " 4.45294815 4.45923762 4.4655271  4.47181657 4.47810604 4.48439552\n",
            " 4.49068499 4.49697447 4.50326394 4.50955342 4.51584289 4.52213237\n",
            " 4.52842184 4.53471132 4.54100079 4.54729027 4.55357974 4.55986922\n",
            " 4.56615869 4.57244817 4.57873764 4.58502712 4.59131659 4.59760607\n",
            " 4.60389554 4.61018502 4.61647449 4.62276396 4.62905344 4.63534291\n",
            " 4.64163239 4.64792186 4.65421134 4.66050081 4.66679029 4.67307976\n",
            " 4.67936924 4.68565871 4.69194819 4.69823766 4.70452714 4.71081661\n",
            " 4.71710609 4.72339556 4.72968504 4.73597451 4.74226399 4.74855346\n",
            " 4.75484294 4.76113241 4.76742188 4.77371136 4.78000083 4.78629031\n",
            " 4.79257978 4.79886926 4.80515873 4.81144821 4.81773768 4.82402716\n",
            " 4.83031663 4.83660611 4.84289558 4.84918506 4.85547453 4.86176401\n",
            " 4.86805348 4.87434296 4.88063243 4.88692191 4.89321138 4.89950086\n",
            " 4.90579033 4.9120798  4.91836928 4.92465875 4.93094823 4.9372377\n",
            " 4.94352718 4.94981665 4.95610613 4.9623956  4.96868508 4.97497455\n",
            " 4.98126403 4.9875535  4.99384298 5.00013245 5.00642193 5.0127114\n",
            " 5.01900088 5.02529035 5.03157983 5.0378693  5.04415878 5.05044825\n",
            " 5.05673772 5.0630272  5.06931667 5.07560615 5.08189562 5.0881851\n",
            " 5.09447457 5.10076405 5.10705352 5.113343   5.11963247 5.12592195\n",
            " 5.13221142 5.1385009  5.14479037 5.15107985 5.15736932 5.1636588\n",
            " 5.16994827 5.17623775 5.18252722 5.1888167  5.19510617 5.20139564\n",
            " 5.20768512 5.21397459 5.22026407 5.22655354 5.23284302 5.23913249\n",
            " 5.24542197 5.25171144 5.25800092 5.26429039 5.27057987 5.27686934\n",
            " 5.28315882 5.28944829 5.29573777 5.30202724 5.30831672 5.31460619\n",
            " 5.32089567 5.32718514 5.33347462 5.33976409 5.34605356 5.35234304\n",
            " 5.35863251 5.36492199 5.37121146 5.37750094 5.38379041 5.39007989\n",
            " 5.39636936 5.40265884 5.40894831 5.41523779 5.42152726 5.42781674\n",
            " 5.43410621 5.44039569 5.44668516 5.45297464 5.45926411 5.46555359\n",
            " 5.47184306 5.47813254 5.48442201 5.49071148 5.49700096 5.50329043\n",
            " 5.50957991 5.51586938 5.52215886 5.52844833 5.53473781 5.54102728\n",
            " 5.54731676 5.55360623 5.55989571 5.56618518 5.57247466 5.57876413\n",
            " 5.58505361 5.59134308 5.59763256 5.60392203 5.61021151 5.61650098\n",
            " 5.62279046 5.62907993 5.6353694  5.64165888 5.64794835 5.65423783\n",
            " 5.6605273  5.66681678 5.67310625 5.67939573 5.6856852  5.69197468\n",
            " 5.69826415 5.70455363 5.7108431  5.71713258 5.72342205 5.72971153\n",
            " 5.736001   5.74229048 5.74857995 5.75486943 5.7611589  5.76744838\n",
            " 5.77373785 5.78002732 5.7863168  5.79260627 5.79889575 5.80518522\n",
            " 5.8114747  5.81776417 5.82405365 5.83034312 5.8366326  5.84292207\n",
            " 5.84921155 5.85550102 5.8617905  5.86807997 5.87436945 5.88065892\n",
            " 5.8869484  5.89323787 5.89952735 5.90581682 5.9121063  5.91839577\n",
            " 5.92468524 5.93097472 5.93726419 5.94355367 5.94984314 5.95613262\n",
            " 5.96242209 5.96871157 5.97500104 5.98129052 5.98757999 5.99386947\n",
            " 6.00015894 6.00644842 6.01273789 6.01902737 6.02531684 6.03160632\n",
            " 6.03789579 6.04418527 6.05047474 6.05676422 6.06305369 6.06934316\n",
            " 6.07563264 6.08192211 6.08821159 6.09450106 6.10079054 6.10708001\n",
            " 6.11336949 6.11965896 6.12594844 6.13223791 6.13852739 6.14481686\n",
            " 6.15110634 6.15739581 6.16368529 6.16997476 6.17626424 6.18255371\n",
            " 6.18884319 6.19513266 6.20142214 6.20771161 6.21400108 6.22029056\n",
            " 6.22658003 6.23286951 6.23915898 6.24544846 6.25173793 6.25802741\n",
            " 6.26431688 6.27060636 6.27689583 6.28318531]\n"
          ],
          "name": "stdout"
        }
      ]
    },
    {
      "cell_type": "markdown",
      "metadata": {
        "id": "WD6rIP1Y3E_o",
        "colab_type": "text"
      },
      "source": [
        "Problema 3"
      ]
    },
    {
      "cell_type": "code",
      "metadata": {
        "id": "TyzG-Okg3FLw",
        "colab_type": "code",
        "colab": {
          "base_uri": "https://localhost:8080/",
          "height": 34
        },
        "outputId": "3eaab295-e696-4ba1-939e-b60de26ecc4b"
      },
      "source": [
        "a-b\n"
      ],
      "execution_count": null,
      "outputs": [
        {
          "output_type": "execute_result",
          "data": {
            "text/plain": [
              "21300.0"
            ]
          },
          "metadata": {
            "tags": []
          },
          "execution_count": 15
        }
      ]
    },
    {
      "cell_type": "markdown",
      "metadata": {
        "id": "RU0Q8-7Q3FcY",
        "colab_type": "text"
      },
      "source": [
        "Problema 4"
      ]
    },
    {
      "cell_type": "code",
      "metadata": {
        "id": "SaiYaDeX3Fm5",
        "colab_type": "code",
        "colab": {}
      },
      "source": [
        ""
      ],
      "execution_count": null,
      "outputs": []
    },
    {
      "cell_type": "markdown",
      "metadata": {
        "id": "E0OBA3j93FwZ",
        "colab_type": "text"
      },
      "source": [
        "Problema 5"
      ]
    },
    {
      "cell_type": "code",
      "metadata": {
        "id": "NeSV5er93F5R",
        "colab_type": "code",
        "colab": {}
      },
      "source": [
        ""
      ],
      "execution_count": null,
      "outputs": []
    }
  ]
}